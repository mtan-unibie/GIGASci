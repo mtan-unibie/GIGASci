{
 "cells": [
  {
   "cell_type": "markdown",
   "metadata": {
    "ExecuteTime": {
     "end_time": "2024-04-05T11:05:08.026481678Z",
     "start_time": "2024-04-05T11:05:08.004816905Z"
    },
    "collapsed": true
   },
   "source": [
    "<a target=\"_blank\" href=\"https://colab.research.google.com/github/mtan-unibie/GIGASci\">\n",
    "  <img src=\"https://colab.research.google.com/assets/colab-badge.svg\" alt=\"Open In Colab\"/>\n",
    "</a>"
   ]
  },
  {
   "cell_type": "markdown",
   "metadata": {},
   "source": [
    "### Install packages"
   ]
  },
  {
   "cell_type": "code",
   "execution_count": null,
   "metadata": {},
   "outputs": [],
   "source": [
    "!pip install torch\n",
    "!pip install torchvision\n",
    "!pip install tensorboard\n",
    "!pip install pillow\n",
    "!pip install timm==0.3.2\n",
    "!pip install numpy\n",
    "!pip install seaborn\n",
    "!pip install pandas\n",
    "!pip install matplotlib\n",
    "!pip install scikit-learn\n",
    "!pip install requests\n",
    "!pip install wget\n",
    "!pip install torchmetrics\n",
    "\n",
    "import requests\n",
    "import wget\n",
    "import subprocess\n",
    "import os"
   ]
  },
  {
   "cell_type": "markdown",
   "metadata": {},
   "source": [
    "#### a fix to work with PyTorch 1.8.1+"
   ]
  },
  {
   "cell_type": "code",
   "execution_count": null,
   "metadata": {},
   "outputs": [],
   "source": [
    "result = subprocess.run(['pip', 'show', 'timm'], capture_output=True, text=True)\n",
    "output_lines = result.stdout.split('\\n')\n",
    "location = None\n",
    "for line in output_lines:\n",
    "    if line.startswith('Location:'):\n",
    "        location = line.split(': ')[1]"
   ]
  },
  {
   "cell_type": "code",
   "execution_count": null,
   "metadata": {},
   "outputs": [],
   "source": [
    "%%writefile {os.path.join(location, 'timm/models/layers/helpers.py')}\n",
    "\"\"\" Layer/Module Helpers\n",
    "\n",
    "Hacked together by / Copyright 2020 Ross Wightman\n",
    "\"\"\"\n",
    "from itertools import repeat\n",
    "#from torch._six import container_abcs\n",
    "import collections.abc as container_abcs\n",
    "\n",
    "\n",
    "# From PyTorch internals\n",
    "def _ntuple(n):\n",
    "    def parse(x):\n",
    "        if isinstance(x, container_abcs.Iterable):\n",
    "            return x\n",
    "        return tuple(repeat(x, n))\n",
    "    return parse\n",
    "\n",
    "\n",
    "to_1tuple = _ntuple(1)\n",
    "to_2tuple = _ntuple(2)\n",
    "to_3tuple = _ntuple(3)\n",
    "to_4tuple = _ntuple(4)\n",
    "to_ntuple = _ntuple"
   ]
  },
  {
   "cell_type": "markdown",
   "metadata": {},
   "source": [
    "### download python files"
   ]
  },
  {
   "cell_type": "code",
   "execution_count": null,
   "metadata": {},
   "outputs": [],
   "source": [
    "!git clone 'https://github.com/facebookresearch/mae.git'\n",
    "%cd mae\n",
    "\n",
    "# URL of the .patch file\n",
    "url = \"https://anonymous.4open.science/api/repo/MAE-ViT-on-diatom-classification-5CB1/file/modifications.patch?v=1cd77079b9ff69c1f00e181ec0a161e215eccffe&download=true\"\n",
    "\n",
    "# Send an HTTP GET request to the URL\n",
    "response = requests.get(url)\n",
    "\n",
    "# Check if the request was successful (status code 200)\n",
    "if response.status_code == 200:\n",
    "    # Save the content of the response to a file\n",
    "    with open('modifications.patch', 'wb') as f:\n",
    "        f.write(response.content)\n",
    "    print(\"Patch file downloaded successfully.\")\n",
    "else:\n",
    "    print(\"Failed to download patch file.\")\n",
    "    \n",
    "!git apply modifications.patch"
   ]
  },
  {
   "cell_type": "markdown",
   "metadata": {},
   "source": [
    "### download data & build testset"
   ]
  },
  {
   "cell_type": "code",
   "execution_count": null,
   "metadata": {},
   "outputs": [],
   "source": [
    "!curl -u \"TBLSXLnL4f8r6iJ:DiatomsRock\" -H 'X-Requested-With: XMLHttpRequest' https://nxcl.biologie.uni-due.de/public.php/webdav --output UDE_Diatoms_in_the_Wild_2024.zip\n",
    "!unzip 'UDE_Diatoms_in_the_Wild_2024.zip'  \n",
    "!python testset.py   "
   ]
  },
  {
   "cell_type": "markdown",
   "metadata": {},
   "source": [
    "### download pre-trained checkpoints"
   ]
  },
  {
   "cell_type": "code",
   "execution_count": null,
   "metadata": {},
   "outputs": [],
   "source": [
    "%mkdir 'checkpoints'\n",
    "%cd 'checkpoints'\n",
    "wget.download('https://docs.cebitec.uni-bielefeld.de/s/J466HPSoPzXRQ6D/download?path=%2F&files=mae_cls144_0.1_ep100_checkpoint.pth')\n",
    "wget.download('https://docs.cebitec.uni-bielefeld.de/s/J466HPSoPzXRQ6D/download?path=%2F&files=mae_cls144_ep100_checkpoint.pth')\n",
    "wget.download('https://docs.cebitec.uni-bielefeld.de/s/J466HPSoPzXRQ6D/download?path=%2F&files=vit_cls144_0.1_ep100_checkpoint.pth')\n",
    "wget.download('https://docs.cebitec.uni-bielefeld.de/s/J466HPSoPzXRQ6D/download?path=%2F&files=vit_cls144_ep100_checkpoint.pth')\n",
    "%cd .."
   ]
  },
  {
   "cell_type": "markdown",
   "metadata": {},
   "source": [
    "### evaluation"
   ]
  },
  {
   "cell_type": "markdown",
   "metadata": {},
   "source": [
    "#### ViT"
   ]
  },
  {
   "cell_type": "code",
   "execution_count": null,
   "metadata": {},
   "outputs": [],
   "source": [
    "!python ViT-classification.py --eval --device cuda --batch_size 16 --nb_classes 144 --resume checkpoints/vit_cls144_ep100_checkpoint.pth --data_path Testset"
   ]
  },
  {
   "cell_type": "code",
   "execution_count": null,
   "metadata": {},
   "outputs": [],
   "source": [
    "!python ViT-classification.py --eval --device cuda --batch_size 16 --nb_classes 144 --resume checkpoints/vit_cls144_0.1_ep100_checkpoint.pth --data_path Testset"
   ]
  },
  {
   "cell_type": "markdown",
   "metadata": {},
   "source": [
    "#### MAE"
   ]
  },
  {
   "cell_type": "code",
   "execution_count": null,
   "metadata": {},
   "outputs": [],
   "source": [
    "!python main_finetune.py  --eval --device cuda --batch_size 16 --nb_classes 144 --resume checkpoints/mae_cls144_ep100_checkpoint.pth --data_path Testset"
   ]
  },
  {
   "cell_type": "code",
   "execution_count": null,
   "metadata": {},
   "outputs": [],
   "source": [
    "!python main_finetune.py  --eval --device cuda --batch_size 16 --nb_classes 144 --resume checkpoints/mae_cls144_0.1_ep100_checkpoint.pth --data_path Testset"
   ]
  }
 ],
 "metadata": {
  "kernelspec": {
   "display_name": "Python 3 (ipykernel)",
   "language": "python",
   "name": "python3"
  },
  "language_info": {
   "codemirror_mode": {
    "name": "ipython",
    "version": 3
   },
   "file_extension": ".py",
   "mimetype": "text/x-python",
   "name": "python",
   "nbconvert_exporter": "python",
   "pygments_lexer": "ipython3",
   "version": "3.10.13"
  }
 },
 "nbformat": 4,
 "nbformat_minor": 1
}

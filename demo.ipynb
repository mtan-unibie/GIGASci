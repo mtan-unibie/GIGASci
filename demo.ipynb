{
 "cells": [
  {
   "cell_type": "markdown",
   "metadata": {
    "ExecuteTime": {
     "end_time": "2024-04-05T11:05:08.026481678Z",
     "start_time": "2024-04-05T11:05:08.004816905Z"
    },
    "collapsed": true
   },
   "source": [
    "<a target=\"_blank\" href=\"https://colab.research.google.com/github/mtan-unibie/GIGASci\">\n",
    "  <img src=\"https://colab.research.google.com/assets/colab-badge.svg\" alt=\"Open In Colab\"/>\n",
    "</a>"
   ]
  },
  {
   "cell_type": "markdown",
   "metadata": {},
   "source": [
    "### Install packages"
   ]
  },
  {
   "cell_type": "code",
   "execution_count": null,
   "metadata": {},
   "outputs": [],
   "source": [
    "%pip install torch==1.8.0\n",
    "%pip install torchvision\n",
    "%pip install tensorboard\n",
    "%pip install pillow\n",
    "%pip install timm==0.3.2\n",
    "%pip install numpy\n",
    "%pip install seaborn\n",
    "%pip install pandas\n",
    "%pip install matplotlib\n",
    "%pip install scikit-learn"
   ]
  },
  {
   "cell_type": "code",
   "execution_count": null,
   "metadata": {},
   "outputs": [],
   "source": [
    "%pip install torch==1.8.0"
   ]
  },
  {
   "cell_type": "code",
   "execution_count": null,
   "metadata": {},
   "outputs": [],
   "source": [
    "%pip install timm==0.3.2"
   ]
  },
  {
   "cell_type": "code",
   "execution_count": null,
   "metadata": {},
   "outputs": [],
   "source": [
    "!pip install requests"
   ]
  },
  {
   "cell_type": "code",
   "execution_count": null,
   "metadata": {},
   "outputs": [],
   "source": [
    "!pip install wget"
   ]
  },
  {
   "cell_type": "code",
   "execution_count": null,
   "metadata": {},
   "outputs": [],
   "source": [
    "import requests"
   ]
  },
  {
   "cell_type": "code",
   "execution_count": null,
   "metadata": {},
   "outputs": [],
   "source": [
    "import wget"
   ]
  },
  {
   "cell_type": "markdown",
   "metadata": {},
   "source": [
    "### download python files"
   ]
  },
  {
   "cell_type": "code",
   "execution_count": null,
   "metadata": {},
   "outputs": [],
   "source": [
    "!git clone 'https://github.com/facebookresearch/mae.git'\n",
    "%cd mae"
   ]
  },
  {
   "cell_type": "code",
   "execution_count": null,
   "metadata": {},
   "outputs": [],
   "source": [
    "# URL of the .patch file\n",
    "url = \"https://anonymous.4open.science/api/repo/MAE-ViT-on-diatom-classification-5CB1/file/modifications.patch?v=d9c65e623e195eb2085812a004bf82e291c7ed34&download=true\"\n",
    "\n",
    "# Send an HTTP GET request to the URL\n",
    "response = requests.get(url)\n",
    "\n",
    "# Check if the request was successful (status code 200)\n",
    "if response.status_code == 200:\n",
    "    # Save the content of the response to a file\n",
    "    with open('modifications.patch', 'wb') as f:\n",
    "        f.write(response.content)\n",
    "    print(\"Patch file downloaded successfully.\")\n",
    "else:\n",
    "    print(\"Failed to download patch file.\")\n"
   ]
  },
  {
   "cell_type": "code",
   "execution_count": null,
   "metadata": {},
   "outputs": [],
   "source": [
    "!git apply modifications.patch"
   ]
  },
  {
   "cell_type": "markdown",
   "metadata": {},
   "source": [
    "### download dataset & build testset"
   ]
  },
  {
   "cell_type": "code",
   "execution_count": null,
   "metadata": {},
   "outputs": [],
   "source": [
    "!curl -u \"TBLSXLnL4f8r6iJ:DiatomsRock\" -H 'X-Requested-With: XMLHttpRequest' https://nxcl.biologie.uni-due.de/public.php/webdav --output UDE_Diatoms_in_the_Wild_2024.zip"
   ]
  },
  {
   "cell_type": "code",
   "execution_count": null,
   "metadata": {},
   "outputs": [],
   "source": [
    "!unzip 'UDE_Diatoms_in_the_Wild_2024.zip'"
   ]
  },
  {
   "cell_type": "code",
   "execution_count": null,
   "metadata": {},
   "outputs": [],
   "source": [
    "!python testset.py"
   ]
  },
  {
   "cell_type": "markdown",
   "metadata": {},
   "source": [
    "### download checkpoints"
   ]
  },
  {
   "cell_type": "code",
   "execution_count": null,
   "metadata": {},
   "outputs": [],
   "source": [
    "%mkdir 'checkpoints'\n",
    "%cd 'checkpoints'"
   ]
  },
  {
   "cell_type": "code",
   "execution_count": null,
   "metadata": {},
   "outputs": [],
   "source": [
    "wget.download('https://docs.cebitec.uni-bielefeld.de/s/J466HPSoPzXRQ6D/download?path=%2F&files=mae_cls144_0.1_ep100_checkpoint.pth')\n",
    "wget.download('https://docs.cebitec.uni-bielefeld.de/s/J466HPSoPzXRQ6D/download?path=%2F&files=mae_cls144_ep100_checkpoint.pth')\n",
    "wget.download('https://docs.cebitec.uni-bielefeld.de/s/J466HPSoPzXRQ6D/download?path=%2F&files=vit_cls144_0.1_ep100_checkpoint.pth')\n",
    "wget.download('https://docs.cebitec.uni-bielefeld.de/s/J466HPSoPzXRQ6D/download?path=%2F&files=vit_cls144_ep100_checkpoint.pth')"
   ]
  },
  {
   "cell_type": "code",
   "execution_count": null,
   "metadata": {},
   "outputs": [],
   "source": [
    "%cd .."
   ]
  },
  {
   "cell_type": "markdown",
   "metadata": {},
   "source": [
    "## ViT"
   ]
  },
  {
   "cell_type": "markdown",
   "metadata": {},
   "source": [
    "### evaluation"
   ]
  },
  {
   "cell_type": "code",
   "execution_count": null,
   "metadata": {},
   "outputs": [],
   "source": [
    "%pip install tensorboard"
   ]
  },
  {
   "cell_type": "code",
   "execution_count": null,
   "metadata": {},
   "outputs": [],
   "source": []
  },
  {
   "cell_type": "code",
   "execution_count": null,
   "metadata": {},
   "outputs": [],
   "source": [
    "!python ViT-classification.py --eval --batch_size 16 --nb_classes 144 --resume checkpoints/vit_cls144_0.1_ep100_checkpoint.pth --data_path Testset"
   ]
  },
  {
   "cell_type": "markdown",
   "metadata": {},
   "source": [
    "## MAE"
   ]
  },
  {
   "cell_type": "markdown",
   "metadata": {},
   "source": [
    "### evaluation"
   ]
  },
  {
   "cell_type": "code",
   "execution_count": null,
   "metadata": {},
   "outputs": [],
   "source": [
    "python main_finetune.py  --eval  --batch_size 16 --nb_classes 144 --resume checkpoints/mae_cls144_0.1_ep100_checkpoint.pth --data_path Testset"
   ]
  }
 ],
 "metadata": {
  "kernelspec": {
   "display_name": "Python 3 (ipykernel)",
   "language": "python",
   "name": "python3"
  },
  "language_info": {
   "codemirror_mode": {
    "name": "ipython",
    "version": 3
   },
   "file_extension": ".py",
   "mimetype": "text/x-python",
   "name": "python",
   "nbconvert_exporter": "python",
   "pygments_lexer": "ipython3",
   "version": "3.10.13"
  }
 },
 "nbformat": 4,
 "nbformat_minor": 1
}

{
 "cells": [
  {
   "cell_type": "markdown",
   "metadata": {
    "ExecuteTime": {
     "end_time": "2024-04-05T11:05:08.026481678Z",
     "start_time": "2024-04-05T11:05:08.004816905Z"
    },
    "collapsed": true
   },
   "source": [
    "<a target=\"_blank\" href=\"https://colab.research.google.com/github/YOURURL\">\n",
    "  <img src=\"https://colab.research.google.com/assets/colab-badge.svg\" alt=\"Open In Colab\"/>\n",
    "</a>"
   ]
  },
  {
   "cell_type": "markdown",
   "metadata": {},
   "source": [
    "### Install packages"
   ]
  },
  {
   "cell_type": "code",
   "execution_count": null,
   "metadata": {},
   "outputs": [],
   "source": [
    "%pip torch\n",
    "%pip torchvision\n",
    "%pip pillow\n",
    "%pip timm==0.3.2\n",
    "%pip numpy\n",
    "%pip seaborn\n",
    "%pip pandas\n",
    "%pip matplotlib\n",
    "%pip scikit-learn"
   ]
  }
 ],
 "metadata": {
  "kernelspec": {
   "display_name": "Python 3 (ipykernel)",
   "language": "python",
   "name": "python3"
  },
  "language_info": {
   "codemirror_mode": {
    "name": "ipython",
    "version": 3
   },
   "file_extension": ".py",
   "mimetype": "text/x-python",
   "name": "python",
   "nbconvert_exporter": "python",
   "pygments_lexer": "ipython3",
   "version": "3.10.13"
  }
 },
 "nbformat": 4,
 "nbformat_minor": 1
}
